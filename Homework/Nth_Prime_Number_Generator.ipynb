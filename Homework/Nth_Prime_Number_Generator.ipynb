{
  "nbformat": 4,
  "nbformat_minor": 0,
  "metadata": {
    "colab": {
      "name": "Nth Prime Number Generator",
      "provenance": [],
      "include_colab_link": true
    },
    "kernelspec": {
      "name": "python3",
      "display_name": "Python 3"
    }
  },
  "cells": [
    {
      "cell_type": "markdown",
      "metadata": {
        "id": "view-in-github",
        "colab_type": "text"
      },
      "source": [
        "<a href=\"https://colab.research.google.com/github/visheshtechie/NLP/blob/master/Homework/Nth_Prime_Number_Generator.ipynb\" target=\"_parent\"><img src=\"https://colab.research.google.com/assets/colab-badge.svg\" alt=\"Open In Colab\"/></a>"
      ]
    },
    {
      "cell_type": "code",
      "metadata": {
        "id": "21QfIWu4G54X",
        "colab_type": "code",
        "outputId": "ccfacd7d-7a5d-48a4-b6c5-5e17a08ee7f3",
        "colab": {
          "base_uri": "https://localhost:8080/",
          "height": 67
        }
      },
      "source": [
        "#Asking the user the nth prime number they want\n",
        "print(\"Please enter the Nth prime number you want:\")\n",
        "n = int(input())\n",
        "#Creating an array to store Prime Numbers upto the Nth number\n",
        "prime = []\n",
        "#Bool value makes sure loop keeps iterating\n",
        "loop = True\n",
        "#i is the number that gets checked for being prime or not\n",
        "i = 2\n",
        "#Index keeps a count of the the prime numbers\n",
        "index = 0\n",
        "while loop:\n",
        "    #Counter counts the number of factors the number has\n",
        "    counter = 0\n",
        "    for j in range(1, i + 1):\n",
        "        if i % j == 0:\n",
        "            counter += 1\n",
        "    #If a number is divisible by 1 and itself only, its prime. That is why counter < 3\n",
        "    if counter < 3:\n",
        "        prime.append(i)\n",
        "        index += 1\n",
        "    #At this stage, the nth prime number is obtained\n",
        "    if index == n:\n",
        "        loop = False\n",
        "    i += 1\n",
        "#We use print to give output to user\n",
        "print(\"Answer :\",prime[n - 1])"
      ],
      "execution_count": 0,
      "outputs": [
        {
          "output_type": "stream",
          "text": [
            "Please enter the Nth prime number you want:\n",
            "10\n",
            "Answer : 29\n"
          ],
          "name": "stdout"
        }
      ]
    }
  ]
}