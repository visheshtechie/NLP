{
  "nbformat": 4,
  "nbformat_minor": 0,
  "metadata": {
    "colab": {
      "name": "NMF_LDA_enron.ipynb",
      "provenance": [],
      "collapsed_sections": []
    },
    "kernelspec": {
      "name": "python3",
      "display_name": "Python 3"
    }
  },
  "cells": [
    {
      "cell_type": "code",
      "metadata": {
        "id": "THu6OCZgjKBJ",
        "colab_type": "code",
        "colab": {}
      },
      "source": [
        "import pandas as pd\n",
        "import zipfile\n",
        "import numpy as np\n",
        "import regex as re\n",
        "import nltk\n",
        "from sklearn.decomposition import NMF,LatentDirichletAllocation \n",
        "from sklearn.feature_extraction.text import TfidfVectorizer\n",
        "from nltk.corpus import stopwords,wordnet\n",
        "from nltk.tokenize import word_tokenize\n",
        "from sklearn.model_selection import train_test_split as tts\n",
        "from sklearn.metrics import classification_report,accuracy_score,confusion_matrix\n",
        "from nltk.stem import WordNetLemmatizer"
      ],
      "execution_count": 0,
      "outputs": []
    },
    {
      "cell_type": "code",
      "metadata": {
        "id": "derjtXsSqyJN",
        "colab_type": "code",
        "colab": {
          "base_uri": "https://localhost:8080/",
          "height": 34
        },
        "outputId": "c58693cc-03b9-442c-b4d1-24169bff8638"
      },
      "source": [
        "!mkdir -p ~/.kaggle\n",
        "!cp /content/kaggle.json ~/.kaggle/\n",
        "!chmod 600 ~/.kaggle/kaggle.json\n",
        "!ls ~/.kaggle"
      ],
      "execution_count": 3,
      "outputs": [
        {
          "output_type": "stream",
          "text": [
            "kaggle.json\n"
          ],
          "name": "stdout"
        }
      ]
    },
    {
      "cell_type": "code",
      "metadata": {
        "id": "dxUdCLzeqrCP",
        "colab_type": "code",
        "colab": {
          "base_uri": "https://localhost:8080/",
          "height": 67
        },
        "outputId": "aabdce06-8b9b-4ede-c344-d16efd589779"
      },
      "source": [
        "!kaggle datasets download -d wcukierski/enron-email-dataset"
      ],
      "execution_count": 4,
      "outputs": [
        {
          "output_type": "stream",
          "text": [
            "Downloading enron-email-dataset.zip to /content\n",
            " 97% 347M/358M [00:08<00:00, 52.1MB/s]\n",
            "100% 358M/358M [00:08<00:00, 45.5MB/s]\n"
          ],
          "name": "stdout"
        }
      ]
    },
    {
      "cell_type": "code",
      "metadata": {
        "id": "m6Q1qJLTq8sP",
        "colab_type": "code",
        "colab": {
          "base_uri": "https://localhost:8080/",
          "height": 34
        },
        "outputId": "c6d7b993-7f4f-41b3-edc7-a8280314656f"
      },
      "source": [
        "datafolder = zipfile.ZipFile('/content/enron-email-dataset.zip')\n",
        "datafolder.filelist"
      ],
      "execution_count": 5,
      "outputs": [
        {
          "output_type": "execute_result",
          "data": {
            "text/plain": [
              "[<ZipInfo filename='emails.csv' compress_type=deflate file_size=1426122219 compress_size=375294799>]"
            ]
          },
          "metadata": {
            "tags": []
          },
          "execution_count": 5
        }
      ]
    },
    {
      "cell_type": "code",
      "metadata": {
        "id": "lHJ82Pb4ppTL",
        "colab_type": "code",
        "colab": {}
      },
      "source": [
        "lem = WordNetLemmatizer()\n",
        "vect = TfidfVectorizer()\n",
        "lda = LatentDirichletAllocation(n_components=5, random_state=0)"
      ],
      "execution_count": 0,
      "outputs": []
    },
    {
      "cell_type": "code",
      "metadata": {
        "id": "dIZTPc0Xpc1c",
        "colab_type": "code",
        "colab": {
          "base_uri": "https://localhost:8080/",
          "height": 185
        },
        "outputId": "bc1de120-3cc5-46c0-c7b6-51ad23247623"
      },
      "source": [
        "nltk.download('punkt')\n",
        "nltk.download('stopwords')\n",
        "nltk.download('averaged_perceptron_tagger')\n",
        "nltk.download('wordnet')"
      ],
      "execution_count": 7,
      "outputs": [
        {
          "output_type": "stream",
          "text": [
            "[nltk_data] Downloading package punkt to /root/nltk_data...\n",
            "[nltk_data]   Unzipping tokenizers/punkt.zip.\n",
            "[nltk_data] Downloading package stopwords to /root/nltk_data...\n",
            "[nltk_data]   Unzipping corpora/stopwords.zip.\n",
            "[nltk_data] Downloading package averaged_perceptron_tagger to\n",
            "[nltk_data]     /root/nltk_data...\n",
            "[nltk_data]   Unzipping taggers/averaged_perceptron_tagger.zip.\n",
            "[nltk_data] Downloading package wordnet to /root/nltk_data...\n",
            "[nltk_data]   Unzipping corpora/wordnet.zip.\n"
          ],
          "name": "stdout"
        },
        {
          "output_type": "execute_result",
          "data": {
            "text/plain": [
              "True"
            ]
          },
          "metadata": {
            "tags": []
          },
          "execution_count": 7
        }
      ]
    },
    {
      "cell_type": "code",
      "metadata": {
        "id": "HgFe_BIopiOR",
        "colab_type": "code",
        "colab": {}
      },
      "source": [
        "stopword = set(stopwords.words('english'))"
      ],
      "execution_count": 0,
      "outputs": []
    },
    {
      "cell_type": "code",
      "metadata": {
        "id": "xMN7PBGqjRo4",
        "colab_type": "code",
        "colab": {}
      },
      "source": [
        "df = pd.read_csv(datafolder.open('emails.csv'),header=0)"
      ],
      "execution_count": 0,
      "outputs": []
    },
    {
      "cell_type": "code",
      "metadata": {
        "id": "jkSgPpM4pxET",
        "colab_type": "code",
        "colab": {}
      },
      "source": [
        "def get_wordnet_pos(word):\n",
        "    tag = nltk.pos_tag([word])[0][1][0].upper()\n",
        "    tag_dict = {\"J\": wordnet.ADJ,\n",
        "                \"N\": wordnet.NOUN,\n",
        "                \"V\": wordnet.VERB,\n",
        "                \"R\": wordnet.ADV}\n",
        "    return tag_dict.get(tag, wordnet.NOUN)"
      ],
      "execution_count": 0,
      "outputs": []
    },
    {
      "cell_type": "code",
      "metadata": {
        "id": "LIDAkhjWotrS",
        "colab_type": "code",
        "colab": {}
      },
      "source": [
        "def pipeline(text):\n",
        "  text = text.rstrip()\n",
        "  stop_free = ' '.join([word for word in text.lower().split() if ((word not in stopword))])\n",
        "  punc_free=re.sub('[^a-zA-Z]', \" \", str(stop_free))\n",
        "  text = ' '.join(lem.lemmatize(word, get_wordnet_pos(word)) for word in nltk.word_tokenize(punc_free))\n",
        "  return text"
      ],
      "execution_count": 0,
      "outputs": []
    },
    {
      "cell_type": "code",
      "metadata": {
        "id": "pZIEIQ1Fp7rZ",
        "colab_type": "code",
        "colab": {}
      },
      "source": [
        "data = df[:100]"
      ],
      "execution_count": 0,
      "outputs": []
    },
    {
      "cell_type": "code",
      "metadata": {
        "id": "cBRUKdk_o1BM",
        "colab_type": "code",
        "outputId": "be13c4ea-59f4-40e1-d100-7823cc340211",
        "colab": {
          "base_uri": "https://localhost:8080/",
          "height": 218
        }
      },
      "source": [
        "data['file_pipeline'] = data['file'].apply(pipeline)\n",
        "data['message_pipeline'] = data['message'].apply(pipeline)"
      ],
      "execution_count": 20,
      "outputs": [
        {
          "output_type": "stream",
          "text": [
            "/usr/local/lib/python3.6/dist-packages/ipykernel_launcher.py:1: SettingWithCopyWarning: \n",
            "A value is trying to be set on a copy of a slice from a DataFrame.\n",
            "Try using .loc[row_indexer,col_indexer] = value instead\n",
            "\n",
            "See the caveats in the documentation: http://pandas.pydata.org/pandas-docs/stable/user_guide/indexing.html#returning-a-view-versus-a-copy\n",
            "  \"\"\"Entry point for launching an IPython kernel.\n",
            "/usr/local/lib/python3.6/dist-packages/ipykernel_launcher.py:2: SettingWithCopyWarning: \n",
            "A value is trying to be set on a copy of a slice from a DataFrame.\n",
            "Try using .loc[row_indexer,col_indexer] = value instead\n",
            "\n",
            "See the caveats in the documentation: http://pandas.pydata.org/pandas-docs/stable/user_guide/indexing.html#returning-a-view-versus-a-copy\n",
            "  \n"
          ],
          "name": "stderr"
        }
      ]
    },
    {
      "cell_type": "code",
      "metadata": {
        "id": "lt7EF37krIvI",
        "colab_type": "code",
        "colab": {}
      },
      "source": [
        "model = vect.fit_transform(data['message_pipeline'])"
      ],
      "execution_count": 0,
      "outputs": []
    },
    {
      "cell_type": "code",
      "metadata": {
        "id": "x2q5iHYOrYkH",
        "colab_type": "code",
        "colab": {}
      },
      "source": [
        "model = pd.DataFrame(model.toarray(), columns=vect.get_feature_names())"
      ],
      "execution_count": 0,
      "outputs": []
    },
    {
      "cell_type": "code",
      "metadata": {
        "id": "WASmQiJ2ra5j",
        "colab_type": "code",
        "colab": {}
      },
      "source": [
        "nmf_model = NMF(n_components=4, init='nndsvd', random_state=0)"
      ],
      "execution_count": 0,
      "outputs": []
    },
    {
      "cell_type": "code",
      "metadata": {
        "id": "N8vyjiz7rczC",
        "colab_type": "code",
        "outputId": "96e090e3-83cb-4f4e-dbf6-f20683088181",
        "colab": {
          "base_uri": "https://localhost:8080/",
          "height": 1000
        }
      },
      "source": [
        "W = nmf_model.fit_transform(model)\n",
        "print(W)"
      ],
      "execution_count": 24,
      "outputs": [
        {
          "output_type": "stream",
          "text": [
            "[[2.08929169e-01 5.76704702e-03 0.00000000e+00 0.00000000e+00]\n",
            " [1.11168460e-01 3.81965253e-02 6.83563801e-02 0.00000000e+00]\n",
            " [2.17374614e-01 0.00000000e+00 0.00000000e+00 0.00000000e+00]\n",
            " [2.09420408e-01 0.00000000e+00 9.01437583e-03 0.00000000e+00]\n",
            " [2.66301081e-01 0.00000000e+00 0.00000000e+00 0.00000000e+00]\n",
            " [2.48419786e-01 0.00000000e+00 0.00000000e+00 0.00000000e+00]\n",
            " [2.52461547e-01 2.38705103e-02 0.00000000e+00 0.00000000e+00]\n",
            " [2.23507998e-01 0.00000000e+00 0.00000000e+00 0.00000000e+00]\n",
            " [1.76078781e-01 1.01390498e-02 0.00000000e+00 8.66425374e-02]\n",
            " [4.04256517e-02 3.86029262e-02 8.86294019e-02 1.92910786e-01]\n",
            " [1.40774562e-01 9.78846359e-03 9.72176142e-03 9.69280442e-02]\n",
            " [1.63747541e-01 0.00000000e+00 0.00000000e+00 0.00000000e+00]\n",
            " [0.00000000e+00 1.99837333e-01 9.52341359e-02 1.92269124e-01]\n",
            " [0.00000000e+00 1.99837333e-01 9.52341359e-02 1.92269124e-01]\n",
            " [2.23398954e-01 0.00000000e+00 0.00000000e+00 0.00000000e+00]\n",
            " [2.15026410e-01 0.00000000e+00 0.00000000e+00 0.00000000e+00]\n",
            " [2.31968394e-02 5.04597464e-01 0.00000000e+00 0.00000000e+00]\n",
            " [1.81795845e-01 7.57968758e-03 0.00000000e+00 0.00000000e+00]\n",
            " [7.16003373e-02 1.76111077e-02 3.29848937e-01 2.64849178e-02]\n",
            " [1.11941694e-01 2.70984503e-01 0.00000000e+00 1.00705716e-02]\n",
            " [2.67687963e-01 0.00000000e+00 7.90673579e-03 0.00000000e+00]\n",
            " [2.10310756e-01 0.00000000e+00 0.00000000e+00 0.00000000e+00]\n",
            " [2.40093604e-01 0.00000000e+00 8.44938870e-03 0.00000000e+00]\n",
            " [0.00000000e+00 5.19672434e-03 0.00000000e+00 7.46244778e-01]\n",
            " [0.00000000e+00 0.00000000e+00 0.00000000e+00 7.40940467e-01]\n",
            " [0.00000000e+00 0.00000000e+00 4.48885252e-01 0.00000000e+00]\n",
            " [0.00000000e+00 0.00000000e+00 4.49729299e-01 0.00000000e+00]\n",
            " [0.00000000e+00 5.63015451e-01 0.00000000e+00 0.00000000e+00]\n",
            " [1.50732639e-01 0.00000000e+00 5.06443610e-02 0.00000000e+00]\n",
            " [2.33960801e-01 6.08768228e-02 0.00000000e+00 1.60753039e-02]\n",
            " [4.58023437e-02 5.36390560e-01 0.00000000e+00 0.00000000e+00]\n",
            " [3.51686465e-02 5.48959144e-01 0.00000000e+00 4.23750933e-02]\n",
            " [1.16969763e-01 1.75187472e-02 9.82083755e-02 0.00000000e+00]\n",
            " [2.26509990e-01 0.00000000e+00 0.00000000e+00 0.00000000e+00]\n",
            " [0.00000000e+00 5.19956367e-01 0.00000000e+00 0.00000000e+00]\n",
            " [6.18015808e-02 5.35812205e-01 0.00000000e+00 0.00000000e+00]\n",
            " [2.54954731e-01 0.00000000e+00 0.00000000e+00 0.00000000e+00]\n",
            " [1.81495569e-01 5.81946962e-03 0.00000000e+00 7.04519731e-02]\n",
            " [2.18470373e-01 1.07004232e-02 0.00000000e+00 5.06107593e-03]\n",
            " [1.76825095e-01 3.27660190e-02 6.57037237e-03 4.53870842e-03]\n",
            " [3.55007810e-02 0.00000000e+00 3.55390018e-01 0.00000000e+00]\n",
            " [1.65577455e-02 3.28835234e-03 6.21374200e-01 0.00000000e+00]\n",
            " [1.25215520e-01 0.00000000e+00 1.88250955e-01 4.04328042e-02]\n",
            " [3.03210736e-01 0.00000000e+00 0.00000000e+00 0.00000000e+00]\n",
            " [2.08334643e-01 0.00000000e+00 8.07021957e-02 0.00000000e+00]\n",
            " [2.58770959e-01 0.00000000e+00 0.00000000e+00 0.00000000e+00]\n",
            " [1.96102693e-01 0.00000000e+00 3.46711205e-02 0.00000000e+00]\n",
            " [1.18540808e-01 6.23595917e-03 5.37055478e-02 0.00000000e+00]\n",
            " [1.52208789e-01 1.57363813e-01 0.00000000e+00 4.12976187e-02]\n",
            " [2.77854254e-01 0.00000000e+00 0.00000000e+00 0.00000000e+00]\n",
            " [9.52640065e-02 1.44134581e-01 1.23954587e-02 0.00000000e+00]\n",
            " [1.21447011e-02 7.13401262e-03 6.20594592e-01 0.00000000e+00]\n",
            " [1.82726240e-01 0.00000000e+00 7.82478270e-02 5.79889077e-03]\n",
            " [9.61930564e-02 0.00000000e+00 0.00000000e+00 3.88330878e-01]\n",
            " [1.77445660e-01 7.36821294e-03 0.00000000e+00 1.28543508e-02]\n",
            " [1.64618316e-01 3.25347899e-04 1.11125218e-01 0.00000000e+00]\n",
            " [9.41584327e-02 1.81540217e-02 2.98496942e-01 7.21673930e-03]\n",
            " [1.64389344e-02 3.15214749e-03 6.21378636e-01 0.00000000e+00]\n",
            " [2.12714117e-01 3.64190364e-02 1.64592473e-02 0.00000000e+00]\n",
            " [8.40030020e-02 4.57058051e-02 2.96122447e-02 3.76665916e-03]\n",
            " [1.11559138e-01 0.00000000e+00 1.68543275e-01 0.00000000e+00]\n",
            " [2.36775999e-02 3.01315851e-01 0.00000000e+00 0.00000000e+00]\n",
            " [2.59601733e-01 9.15501442e-02 0.00000000e+00 0.00000000e+00]\n",
            " [0.00000000e+00 2.82377913e-01 7.96137330e-02 1.93450800e-02]\n",
            " [2.12940605e-01 2.28638902e-01 0.00000000e+00 0.00000000e+00]\n",
            " [3.21773531e-01 0.00000000e+00 0.00000000e+00 0.00000000e+00]\n",
            " [1.33184135e-01 4.69573066e-02 4.74989957e-02 0.00000000e+00]\n",
            " [1.90630670e-01 5.59058060e-02 0.00000000e+00 4.02701541e-01]\n",
            " [1.95820410e-01 2.05403861e-01 0.00000000e+00 0.00000000e+00]\n",
            " [1.73928537e-01 9.95104646e-03 0.00000000e+00 5.31810605e-02]\n",
            " [1.97076471e-01 1.27502011e-03 0.00000000e+00 0.00000000e+00]\n",
            " [1.55337422e-01 5.90793629e-02 4.73851647e-02 0.00000000e+00]\n",
            " [2.49941372e-02 3.19974114e-01 0.00000000e+00 0.00000000e+00]\n",
            " [2.22498551e-01 3.21264705e-02 0.00000000e+00 0.00000000e+00]\n",
            " [2.31466180e-01 6.48593119e-02 0.00000000e+00 3.59799618e-01]\n",
            " [2.16813447e-01 0.00000000e+00 0.00000000e+00 0.00000000e+00]\n",
            " [2.30411879e-01 1.48611156e-02 0.00000000e+00 0.00000000e+00]\n",
            " [1.91903592e-01 0.00000000e+00 0.00000000e+00 4.70954257e-01]\n",
            " [1.85709440e-01 0.00000000e+00 0.00000000e+00 3.66291316e-01]\n",
            " [2.96991264e-01 0.00000000e+00 0.00000000e+00 0.00000000e+00]\n",
            " [1.47947649e-02 4.51845677e-01 0.00000000e+00 0.00000000e+00]\n",
            " [7.56130634e-02 0.00000000e+00 6.04676137e-03 1.64148681e-01]\n",
            " [5.56331374e-03 0.00000000e+00 0.00000000e+00 5.80209647e-01]\n",
            " [1.52562354e-01 9.89854221e-02 0.00000000e+00 0.00000000e+00]\n",
            " [1.83692362e-01 1.83888154e-02 3.90957346e-02 0.00000000e+00]\n",
            " [2.12973434e-01 7.79363513e-03 0.00000000e+00 0.00000000e+00]\n",
            " [1.45307258e-01 3.80180497e-02 1.90273535e-02 0.00000000e+00]\n",
            " [1.99554405e-01 0.00000000e+00 0.00000000e+00 0.00000000e+00]\n",
            " [1.10017314e-01 0.00000000e+00 2.09986571e-02 1.34250609e-02]\n",
            " [2.97661843e-01 0.00000000e+00 0.00000000e+00 0.00000000e+00]\n",
            " [2.68429321e-01 4.81662949e-02 1.15398378e-02 0.00000000e+00]\n",
            " [2.39382152e-01 0.00000000e+00 0.00000000e+00 0.00000000e+00]\n",
            " [2.79995917e-01 0.00000000e+00 1.53707389e-02 0.00000000e+00]\n",
            " [1.98955681e-01 0.00000000e+00 3.05410023e-02 6.88013260e-03]\n",
            " [7.64630861e-02 2.58979009e-01 1.39674962e-02 5.98697842e-03]\n",
            " [7.60611728e-02 2.35475410e-03 5.47384184e-02 1.56116457e-01]\n",
            " [1.91018903e-01 3.08979715e-02 3.18045168e-02 0.00000000e+00]\n",
            " [1.91415889e-01 3.29479552e-02 1.36101263e-02 3.92714294e-03]\n",
            " [2.12770916e-01 3.60391996e-02 3.65155215e-02 0.00000000e+00]\n",
            " [1.42424277e-01 3.99673891e-03 1.71701257e-02 5.73671027e-02]]\n"
          ],
          "name": "stdout"
        }
      ]
    },
    {
      "cell_type": "code",
      "metadata": {
        "id": "GzyRAV4brfp_",
        "colab_type": "code",
        "outputId": "8a22797b-562c-453a-cbcf-1335de7830bd",
        "colab": {
          "base_uri": "https://localhost:8080/",
          "height": 84
        }
      },
      "source": [
        "H = nmf_model.components_\n",
        "print(H)"
      ],
      "execution_count": 25,
      "outputs": [
        {
          "output_type": "stream",
          "text": [
            "[[0.         0.00213423 0.         ... 0.         0.         0.00144943]\n",
            " [0.02467442 0.00078329 0.         ... 0.         0.00231798 0.        ]\n",
            " [0.03550698 0.02590678 0.03549846 ... 0.03740361 0.00072485 0.01295388]\n",
            " [0.02275509 0.05077378 0.00794782 ... 0.         0.         0.        ]]\n"
          ],
          "name": "stdout"
        }
      ]
    },
    {
      "cell_type": "code",
      "metadata": {
        "id": "1yoR2lHYrlQU",
        "colab_type": "code",
        "colab": {}
      },
      "source": [
        "def display_topics(H, W, feature_names, documents, no_top_words, no_top_documents):\n",
        "    for topic_idx, topic in enumerate(H):\n",
        "        print(\"Topic %d:\" % (topic_idx))\n",
        "        print(\" \".join([feature_names[i]\n",
        "                        for i in topic.argsort()[:-no_top_words - 1:-1]]))\n",
        "        top_doc_indices = np.argsort( W[:,topic_idx] )[::-1][0:no_top_documents]\n",
        "        for doc_index in top_doc_indices:\n",
        "            print(documents[doc_index])"
      ],
      "execution_count": 0,
      "outputs": []
    },
    {
      "cell_type": "code",
      "metadata": {
        "id": "qhmo8QMi94s0",
        "colab_type": "code",
        "outputId": "51c3ccba-910a-4b7a-c176-35175a1641d0",
        "colab": {
          "base_uri": "https://localhost:8080/",
          "height": 134
        }
      },
      "source": [
        "lda.fit(model)"
      ],
      "execution_count": 27,
      "outputs": [
        {
          "output_type": "execute_result",
          "data": {
            "text/plain": [
              "LatentDirichletAllocation(batch_size=128, doc_topic_prior=None,\n",
              "                          evaluate_every=-1, learning_decay=0.7,\n",
              "                          learning_method='batch', learning_offset=10.0,\n",
              "                          max_doc_update_iter=100, max_iter=10,\n",
              "                          mean_change_tol=0.001, n_components=5, n_jobs=None,\n",
              "                          perp_tol=0.1, random_state=0, topic_word_prior=None,\n",
              "                          total_samples=1000000.0, verbose=0)"
            ]
          },
          "metadata": {
            "tags": []
          },
          "execution_count": 27
        }
      ]
    },
    {
      "cell_type": "code",
      "metadata": {
        "id": "eoy7ChqC-Vn9",
        "colab_type": "code",
        "outputId": "ef041000-1b08-4e18-930f-164ae9441c6e",
        "colab": {
          "base_uri": "https://localhost:8080/",
          "height": 185
        }
      },
      "source": [
        "lda.components_"
      ],
      "execution_count": 28,
      "outputs": [
        {
          "output_type": "execute_result",
          "data": {
            "text/plain": [
              "array([[0.20003215, 0.20003424, 0.31409973, ..., 0.32103956, 0.20000758,\n",
              "        0.20001766],\n",
              "       [0.22219271, 0.50462095, 0.2119271 , ..., 0.20198485, 0.2033532 ,\n",
              "        0.20531643],\n",
              "       [0.20003262, 0.20003478, 0.20003099, ..., 0.20000773, 0.20000778,\n",
              "        0.20001726],\n",
              "       [0.27817928, 0.3225747 , 0.32723095, ..., 0.20000724, 0.21831234,\n",
              "        0.20001622],\n",
              "       [0.6594826 , 0.22699222, 0.20003002, ..., 0.2000073 , 0.20000751,\n",
              "        0.28479743]])"
            ]
          },
          "metadata": {
            "tags": []
          },
          "execution_count": 28
        }
      ]
    }
  ]
}
