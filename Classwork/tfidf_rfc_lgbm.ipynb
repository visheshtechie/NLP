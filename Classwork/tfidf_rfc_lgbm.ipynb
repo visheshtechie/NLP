{
  "nbformat": 4,
  "nbformat_minor": 0,
  "metadata": {
    "colab": {
      "name": "tfidf_rfc_lgbm.ipynb",
      "provenance": [],
      "authorship_tag": "ABX9TyMF889mZj5y42KEn9tXnAX+"
    },
    "kernelspec": {
      "name": "python3",
      "display_name": "Python 3"
    }
  },
  "cells": [
    {
      "cell_type": "code",
      "metadata": {
        "id": "F5Qx9IFiclqp",
        "colab_type": "code",
        "colab": {}
      },
      "source": [
        "import pandas as pd\n",
        "import nltk\n",
        "from nltk import word_tokenize\n",
        "from sklearn.feature_extraction.text import CountVectorizer\n",
        "from sklearn.model_selection import train_test_split as tts\n",
        "from sklearn.ensemble import RandomForestClassifier\n",
        "from sklearn.model_selection import GridSearchCV\n",
        "import numpy as np\n",
        "from sklearn.preprocessing import LabelEncoder, LabelBinarizer\n",
        "from sklearn.metrics import classification_report, roc_auc_score\n",
        "import string\n",
        "from string import digits\n",
        "from nltk.corpus import stopwords\n",
        "import lightgbm as lgb"
      ],
      "execution_count": 0,
      "outputs": []
    },
    {
      "cell_type": "code",
      "metadata": {
        "id": "aH_k0p0scyfk",
        "colab_type": "code",
        "colab": {
          "base_uri": "https://localhost:8080/",
          "height": 134
        },
        "outputId": "0874a43a-22c5-4bf3-d4b3-58a5d2295070"
      },
      "source": [
        "nltk.download('punkt')\n",
        "nltk.download('stopwords')\n",
        "nltk.download('words')"
      ],
      "execution_count": 6,
      "outputs": [
        {
          "output_type": "stream",
          "text": [
            "[nltk_data] Downloading package punkt to /root/nltk_data...\n",
            "[nltk_data]   Package punkt is already up-to-date!\n",
            "[nltk_data] Downloading package stopwords to /root/nltk_data...\n",
            "[nltk_data]   Package stopwords is already up-to-date!\n",
            "[nltk_data] Downloading package words to /root/nltk_data...\n",
            "[nltk_data]   Package words is already up-to-date!\n"
          ],
          "name": "stdout"
        },
        {
          "output_type": "execute_result",
          "data": {
            "text/plain": [
              "True"
            ]
          },
          "metadata": {
            "tags": []
          },
          "execution_count": 6
        }
      ]
    },
    {
      "cell_type": "code",
      "metadata": {
        "id": "SLd51hAXc1OO",
        "colab_type": "code",
        "colab": {}
      },
      "source": [
        "tweet = pd.read_csv('https://raw.githubusercontent.com/zfz/twitter_corpus/master/full-corpus.csv', error_bad_lines=False)"
      ],
      "execution_count": 0,
      "outputs": []
    },
    {
      "cell_type": "code",
      "metadata": {
        "id": "AH7iXzTTc5ra",
        "colab_type": "code",
        "colab": {}
      },
      "source": [
        "twitter = tweet[tweet['Sentiment']!='irrelevant']"
      ],
      "execution_count": 0,
      "outputs": []
    },
    {
      "cell_type": "code",
      "metadata": {
        "id": "4LPcXPj3dA-w",
        "colab_type": "code",
        "colab": {}
      },
      "source": [
        "def clean(text):\n",
        "  text= text.lower()\n",
        "  text = text.translate(text.maketrans('','',digits))#removing digits\n",
        "  text = text.translate(text.maketrans('', '', '!\"@#$%&\\'()*+,-./:;<=>?@[\\\\]^_`{|}~'))\n",
        "  return text"
      ],
      "execution_count": 0,
      "outputs": []
    },
    {
      "cell_type": "code",
      "metadata": {
        "id": "IXsCoXmDc9SD",
        "colab_type": "code",
        "colab": {
          "base_uri": "https://localhost:8080/",
          "height": 118
        },
        "outputId": "7e9883f4-e458-4c15-81d7-7b3d0b2d89cd"
      },
      "source": [
        "twitter['TweetTokens']= twitter['TweetText'].apply(clean)"
      ],
      "execution_count": 12,
      "outputs": [
        {
          "output_type": "stream",
          "text": [
            "/usr/local/lib/python3.6/dist-packages/ipykernel_launcher.py:1: SettingWithCopyWarning: \n",
            "A value is trying to be set on a copy of a slice from a DataFrame.\n",
            "Try using .loc[row_indexer,col_indexer] = value instead\n",
            "\n",
            "See the caveats in the documentation: http://pandas.pydata.org/pandas-docs/stable/user_guide/indexing.html#returning-a-view-versus-a-copy\n",
            "  \"\"\"Entry point for launching an IPython kernel.\n"
          ],
          "name": "stderr"
        }
      ]
    },
    {
      "cell_type": "code",
      "metadata": {
        "id": "lQqFWao6dGew",
        "colab_type": "code",
        "colab": {}
      },
      "source": [
        "vectorizer = CountVectorizer(lowercase=True, stop_words=set(stopwords.words('english')))\n",
        "X = vectorizer.fit_transform(twitter['TweetTokens'])"
      ],
      "execution_count": 0,
      "outputs": []
    },
    {
      "cell_type": "code",
      "metadata": {
        "id": "35EKNcZ7dLtK",
        "colab_type": "code",
        "colab": {}
      },
      "source": [
        "features = pd.DataFrame(X.toarray(), columns=vectorizer.get_feature_names())"
      ],
      "execution_count": 0,
      "outputs": []
    },
    {
      "cell_type": "code",
      "metadata": {
        "id": "3OgexSxedMDl",
        "colab_type": "code",
        "colab": {}
      },
      "source": [
        "X_train,X_test,y_train,y_test = tts(X,twitter['Sentiment'],test_size=0.3, random_state=30)"
      ],
      "execution_count": 0,
      "outputs": []
    },
    {
      "cell_type": "code",
      "metadata": {
        "id": "pvT3PMn_dMij",
        "colab_type": "code",
        "colab": {}
      },
      "source": [
        "x_train = pd.DataFrame(X_train.toarray(),columns=vectorizer.get_feature_names())\n",
        "x_test = pd.DataFrame(X_test.toarray(),columns=vectorizer.get_feature_names())"
      ],
      "execution_count": 0,
      "outputs": []
    },
    {
      "cell_type": "code",
      "metadata": {
        "id": "fVSWcK5BdMqr",
        "colab_type": "code",
        "colab": {}
      },
      "source": [
        "ran = RandomForestClassifier()"
      ],
      "execution_count": 0,
      "outputs": []
    },
    {
      "cell_type": "code",
      "metadata": {
        "id": "X9id_iOLedeQ",
        "colab_type": "code",
        "colab": {
          "base_uri": "https://localhost:8080/",
          "height": 151
        },
        "outputId": "2042aa5d-7ce0-4d1e-c891-f932d1402bc7"
      },
      "source": [
        "ran.fit(x_train,y_train)"
      ],
      "execution_count": 18,
      "outputs": [
        {
          "output_type": "execute_result",
          "data": {
            "text/plain": [
              "RandomForestClassifier(bootstrap=True, ccp_alpha=0.0, class_weight=None,\n",
              "                       criterion='gini', max_depth=None, max_features='auto',\n",
              "                       max_leaf_nodes=None, max_samples=None,\n",
              "                       min_impurity_decrease=0.0, min_impurity_split=None,\n",
              "                       min_samples_leaf=1, min_samples_split=2,\n",
              "                       min_weight_fraction_leaf=0.0, n_estimators=100,\n",
              "                       n_jobs=None, oob_score=False, random_state=None,\n",
              "                       verbose=0, warm_start=False)"
            ]
          },
          "metadata": {
            "tags": []
          },
          "execution_count": 18
        }
      ]
    },
    {
      "cell_type": "code",
      "metadata": {
        "id": "LyNvRCYnu5Kj",
        "colab_type": "code",
        "outputId": "1ef5b29d-c60f-43bb-fe17-bda157d75741",
        "colab": {
          "base_uri": "https://localhost:8080/",
          "height": 185
        }
      },
      "source": [
        "y_pred = ran.predict(x_test)\n",
        "print(classification_report(ran.predict(x_test),y_test))#default threshold(0.5)"
      ],
      "execution_count": 19,
      "outputs": [
        {
          "output_type": "stream",
          "text": [
            "              precision    recall  f1-score   support\n",
            "\n",
            "    negative       0.42      0.72      0.53       101\n",
            "     neutral       0.94      0.78      0.85       872\n",
            "    positive       0.22      0.51      0.31        55\n",
            "\n",
            "    accuracy                           0.76      1028\n",
            "   macro avg       0.53      0.67      0.57      1028\n",
            "weighted avg       0.85      0.76      0.79      1028\n",
            "\n"
          ],
          "name": "stdout"
        }
      ]
    },
    {
      "cell_type": "code",
      "metadata": {
        "id": "LvaON1mU2VP4",
        "colab_type": "code",
        "colab": {}
      },
      "source": [
        "#roc auc score function\n",
        "def multiclass_roc_auc_score(y_test, y_pred, average='macro'):\n",
        "  lb = LabelBinarizer()\n",
        "  lb.fit(y_test)\n",
        "  Y_test = lb.transform(y_test)\n",
        "  y_pred = lb.transform(y_pred)\n",
        "  return roc_auc_score(Y_test, y_pred, average=average)"
      ],
      "execution_count": 0,
      "outputs": []
    },
    {
      "cell_type": "code",
      "metadata": {
        "id": "sWHP9zd22sIb",
        "colab_type": "code",
        "outputId": "897987c3-9e7a-48c7-b902-ea3397b37335",
        "colab": {
          "base_uri": "https://localhost:8080/",
          "height": 34
        }
      },
      "source": [
        "multiclass_roc_auc_score(y_test, y_pred)"
      ],
      "execution_count": 21,
      "outputs": [
        {
          "output_type": "execute_result",
          "data": {
            "text/plain": [
              "0.6485518292365261"
            ]
          },
          "metadata": {
            "tags": []
          },
          "execution_count": 21
        }
      ]
    },
    {
      "cell_type": "code",
      "metadata": {
        "id": "1Gp5nkpb3Cz4",
        "colab_type": "code",
        "colab": {}
      },
      "source": [
        "le = LabelEncoder()\n",
        "Y_test = le.fit_transform(y_test)"
      ],
      "execution_count": 0,
      "outputs": []
    },
    {
      "cell_type": "code",
      "metadata": {
        "id": "V2jhy6M-3GgI",
        "colab_type": "code",
        "outputId": "e3469b8b-b918-481b-84c1-2800d6b7e895",
        "colab": {
          "base_uri": "https://localhost:8080/",
          "height": 134
        }
      },
      "source": [
        "pred_ran = ran.predict_proba(x_test)\n",
        "pred_ran"
      ],
      "execution_count": 23,
      "outputs": [
        {
          "output_type": "execute_result",
          "data": {
            "text/plain": [
              "array([[0.05      , 0.93      , 0.02      ],\n",
              "       [0.01      , 0.26      , 0.73      ],\n",
              "       [0.2       , 0.66      , 0.14      ],\n",
              "       ...,\n",
              "       [0.01      , 0.88575901, 0.10424099],\n",
              "       [0.29      , 0.71      , 0.        ],\n",
              "       [0.        , 0.92354249, 0.07645751]])"
            ]
          },
          "metadata": {
            "tags": []
          },
          "execution_count": 23
        }
      ]
    },
    {
      "cell_type": "markdown",
      "metadata": {
        "id": "M6dJIriG3hut",
        "colab_type": "text"
      },
      "source": [
        "**LightGBM**"
      ]
    },
    {
      "cell_type": "code",
      "metadata": {
        "id": "4U_ztIM4yNjj",
        "colab_type": "code",
        "colab": {}
      },
      "source": [
        "params = {\n",
        "    \"objective\" : \"multiclass\",\n",
        "    'boosting_type': 'gbdt',\n",
        "    'objective': 'multiclass',\n",
        "    'num_class':3,\n",
        "    'learning_rate':0.01,\n",
        "    'max_depth': 7,\n",
        "    'num_leaves': 127,\n",
        "    'feature_fraction': 0.4,\n",
        "    'bagging_freq': 10,\n",
        "    'num_iterations':1000 ,\n",
        "    'max_bin' : 32}"
      ],
      "execution_count": 0,
      "outputs": []
    },
    {
      "cell_type": "code",
      "metadata": {
        "id": "5i6ev359yQuM",
        "colab_type": "code",
        "colab": {}
      },
      "source": [
        "le = LabelEncoder()  \n",
        "d_train = lgb.Dataset(x_train,le.fit_transform(y_train))\n"
      ],
      "execution_count": 0,
      "outputs": []
    },
    {
      "cell_type": "code",
      "metadata": {
        "id": "2FCWJBd-yWmj",
        "colab_type": "code",
        "colab": {
          "base_uri": "https://localhost:8080/",
          "height": 50
        },
        "outputId": "c123ecc7-7e4d-4af3-8f7c-cdf42aca1586"
      },
      "source": [
        "clf = lgb.train( params,d_train, 100)"
      ],
      "execution_count": 26,
      "outputs": [
        {
          "output_type": "stream",
          "text": [
            "/usr/local/lib/python3.6/dist-packages/lightgbm/engine.py:118: UserWarning: Found `num_iterations` in params. Will use it instead of argument\n",
            "  warnings.warn(\"Found `{}` in params. Will use it instead of argument\".format(alias))\n"
          ],
          "name": "stderr"
        }
      ]
    },
    {
      "cell_type": "code",
      "metadata": {
        "id": "km2uHUoNyklV",
        "colab_type": "code",
        "colab": {}
      },
      "source": [
        "preds = clf.predict(x_test)\n",
        "best_preds= [np.argmax(line) for line in preds]"
      ],
      "execution_count": 0,
      "outputs": []
    },
    {
      "cell_type": "code",
      "metadata": {
        "id": "2DgMNdDsy6d5",
        "colab_type": "code",
        "outputId": "48cb8b36-7dc1-4efa-f023-565012e3cc3c",
        "colab": {
          "base_uri": "https://localhost:8080/",
          "height": 34
        }
      },
      "source": [
        "np.bincount((le.fit_transform(y_train)))"
      ],
      "execution_count": 28,
      "outputs": [
        {
          "output_type": "execute_result",
          "data": {
            "text/plain": [
              "array([ 397, 1605,  394])"
            ]
          },
          "metadata": {
            "tags": []
          },
          "execution_count": 28
        }
      ]
    },
    {
      "cell_type": "code",
      "metadata": {
        "id": "lufyTnQdy-SI",
        "colab_type": "code",
        "outputId": "fa1a6b37-fa42-4ed2-e283-e1f5efcb07cb",
        "colab": {
          "base_uri": "https://localhost:8080/",
          "height": 185
        }
      },
      "source": [
        "print(classification_report(le.inverse_transform(best_preds),y_test))"
      ],
      "execution_count": 30,
      "outputs": [
        {
          "output_type": "stream",
          "text": [
            "              precision    recall  f1-score   support\n",
            "\n",
            "    negative       0.25      0.56      0.34        77\n",
            "     neutral       0.94      0.75      0.83       922\n",
            "    positive       0.09      0.38      0.14        29\n",
            "\n",
            "    accuracy                           0.72      1028\n",
            "   macro avg       0.43      0.56      0.44      1028\n",
            "weighted avg       0.87      0.72      0.78      1028\n",
            "\n"
          ],
          "name": "stdout"
        }
      ]
    },
    {
      "cell_type": "code",
      "metadata": {
        "id": "olGAYpvy1sK4",
        "colab_type": "code",
        "outputId": "2ffe0c2e-05d6-47c9-a990-904876405358",
        "colab": {
          "base_uri": "https://localhost:8080/",
          "height": 34
        }
      },
      "source": [
        "np.bincount((best_preds))"
      ],
      "execution_count": 31,
      "outputs": [
        {
          "output_type": "execute_result",
          "data": {
            "text/plain": [
              "array([ 77, 922,  29])"
            ]
          },
          "metadata": {
            "tags": []
          },
          "execution_count": 31
        }
      ]
    },
    {
      "cell_type": "code",
      "metadata": {
        "id": "bufZ5Poo1xTS",
        "colab_type": "code",
        "outputId": "4c1c229f-eec2-4d5e-c4e0-9ff594070a68",
        "colab": {
          "base_uri": "https://localhost:8080/",
          "height": 185
        }
      },
      "source": [
        "preds = clf.predict(x_train)\n",
        "best_preds_train= [np.argmax(line) for line in preds]\n",
        "print(classification_report(le.inverse_transform(best_preds_train),y_train))"
      ],
      "execution_count": 32,
      "outputs": [
        {
          "output_type": "stream",
          "text": [
            "              precision    recall  f1-score   support\n",
            "\n",
            "    negative       0.32      0.73      0.44       172\n",
            "     neutral       0.97      0.74      0.84      2101\n",
            "    positive       0.25      0.80      0.38       123\n",
            "\n",
            "    accuracy                           0.74      2396\n",
            "   macro avg       0.51      0.76      0.55      2396\n",
            "weighted avg       0.88      0.74      0.79      2396\n",
            "\n"
          ],
          "name": "stdout"
        }
      ]
    },
    {
      "cell_type": "markdown",
      "metadata": {
        "id": "wXfHFati44pq",
        "colab_type": "text"
      },
      "source": [
        "**Threshold = 0.6**"
      ]
    },
    {
      "cell_type": "code",
      "metadata": {
        "id": "mmvjhG-b2CLy",
        "colab_type": "code",
        "outputId": "0fce0730-8cd4-409e-89bf-3c525d01c318",
        "colab": {
          "base_uri": "https://localhost:8080/",
          "height": 790
        }
      },
      "source": [
        "###for lgbm\n",
        "\n",
        "print(\"Default Threshold for lgbm : \\n\",classification_report(le.inverse_transform(best_preds_train),y_train))\n",
        "def thresh_1(array):\n",
        "  a = []\n",
        "  for i in range(len(array)):\n",
        "    if max(array[i])>0.6:\n",
        "      a.append(np.argmax(array[i]))\n",
        "    else:\n",
        "      a.append(2)\n",
        "  return a\n",
        "print(\"\\n 0.6 Threshold for lgbm : \\n\",classification_report(le.inverse_transform(thresh_1(preds)),y_train))\n",
        "      \n",
        "###For RandomForest\n",
        "pred_rf = ran.predict_proba(x_test)\n",
        "print(\"Default Threshold for rf : \\n\",(classification_report(ran.predict(x_test),y_test)))\n",
        "print(\"\\n 0.6 threshold for rf : \\n\",classification_report(le.inverse_transform(thresh_1(pred_rf)),y_test) )"
      ],
      "execution_count": 33,
      "outputs": [
        {
          "output_type": "stream",
          "text": [
            "Default Threshold for lgbm : \n",
            "               precision    recall  f1-score   support\n",
            "\n",
            "    negative       0.32      0.73      0.44       172\n",
            "     neutral       0.97      0.74      0.84      2101\n",
            "    positive       0.25      0.80      0.38       123\n",
            "\n",
            "    accuracy                           0.74      2396\n",
            "   macro avg       0.51      0.76      0.55      2396\n",
            "weighted avg       0.88      0.74      0.79      2396\n",
            "\n",
            "\n",
            " 0.6 Threshold for lgbm : \n",
            "               precision    recall  f1-score   support\n",
            "\n",
            "    negative       0.12      0.85      0.21        55\n",
            "     neutral       0.84      0.82      0.83      1637\n",
            "    positive       0.59      0.33      0.43       704\n",
            "\n",
            "    accuracy                           0.68      2396\n",
            "   macro avg       0.52      0.67      0.49      2396\n",
            "weighted avg       0.75      0.68      0.70      2396\n",
            "\n",
            "Default Threshold for rf : \n",
            "               precision    recall  f1-score   support\n",
            "\n",
            "    negative       0.42      0.72      0.53       101\n",
            "     neutral       0.94      0.78      0.85       872\n",
            "    positive       0.22      0.51      0.31        55\n",
            "\n",
            "    accuracy                           0.76      1028\n",
            "   macro avg       0.53      0.67      0.57      1028\n",
            "weighted avg       0.85      0.76      0.79      1028\n",
            "\n",
            "\n",
            " 0.6 threshold for rf : \n",
            "               precision    recall  f1-score   support\n",
            "\n",
            "    negative       0.17      0.91      0.29        33\n",
            "     neutral       0.84      0.84      0.84       731\n",
            "    positive       0.51      0.24      0.33       264\n",
            "\n",
            "    accuracy                           0.69      1028\n",
            "   macro avg       0.51      0.66      0.49      1028\n",
            "weighted avg       0.74      0.69      0.69      1028\n",
            "\n"
          ],
          "name": "stdout"
        }
      ]
    },
    {
      "cell_type": "markdown",
      "metadata": {
        "id": "B8MC-Og558mr",
        "colab_type": "text"
      },
      "source": [
        "**Threshold = 0.7**"
      ]
    },
    {
      "cell_type": "code",
      "metadata": {
        "id": "iQXUoY-E5bn5",
        "colab_type": "code",
        "outputId": "9ac13185-f69e-402b-c581-2e0ad2e9128f",
        "colab": {
          "base_uri": "https://localhost:8080/",
          "height": 790
        }
      },
      "source": [
        "print(\"Default Threshold for lgbm : \\n\",classification_report(le.inverse_transform(best_preds_train),y_train))\n",
        "def thresh_2(array):\n",
        "  a = []\n",
        "  for i in range(len(array)):\n",
        "    if max(array[i])>0.7:\n",
        "      a.append(np.argmax(array[i]))\n",
        "    else:\n",
        "      a.append(2)\n",
        "  return a\n",
        "print(\"\\n 0.7 Threshold for lgbm : \\n\",classification_report(le.inverse_transform(thresh_2(preds)),y_train))\n",
        "      \n",
        "###For RandomForest\n",
        "pred_rf = ran.predict_proba(x_test)\n",
        "print(\"Default Threshold for rf : \\n\",(classification_report(ran.predict(x_test),y_test)))\n",
        "print(\"\\n 0.7 threshold for rf : \\n\",classification_report(le.inverse_transform(thresh_2(pred_rf)),y_test) )"
      ],
      "execution_count": 34,
      "outputs": [
        {
          "output_type": "stream",
          "text": [
            "Default Threshold for lgbm : \n",
            "               precision    recall  f1-score   support\n",
            "\n",
            "    negative       0.32      0.73      0.44       172\n",
            "     neutral       0.97      0.74      0.84      2101\n",
            "    positive       0.25      0.80      0.38       123\n",
            "\n",
            "    accuracy                           0.74      2396\n",
            "   macro avg       0.51      0.76      0.55      2396\n",
            "weighted avg       0.88      0.74      0.79      2396\n",
            "\n",
            "\n",
            " 0.7 Threshold for lgbm : \n",
            "               precision    recall  f1-score   support\n",
            "\n",
            "    negative       0.07      0.90      0.12        29\n",
            "     neutral       0.71      0.86      0.78      1327\n",
            "    positive       0.75      0.28      0.41      1040\n",
            "\n",
            "    accuracy                           0.61      2396\n",
            "   macro avg       0.51      0.68      0.44      2396\n",
            "weighted avg       0.72      0.61      0.61      2396\n",
            "\n",
            "Default Threshold for rf : \n",
            "               precision    recall  f1-score   support\n",
            "\n",
            "    negative       0.42      0.72      0.53       101\n",
            "     neutral       0.94      0.78      0.85       872\n",
            "    positive       0.22      0.51      0.31        55\n",
            "\n",
            "    accuracy                           0.76      1028\n",
            "   macro avg       0.53      0.67      0.57      1028\n",
            "weighted avg       0.85      0.76      0.79      1028\n",
            "\n",
            "\n",
            " 0.7 threshold for rf : \n",
            "               precision    recall  f1-score   support\n",
            "\n",
            "    negative       0.10      1.00      0.19        18\n",
            "     neutral       0.77      0.86      0.81       644\n",
            "    positive       0.64      0.22      0.33       366\n",
            "\n",
            "    accuracy                           0.64      1028\n",
            "   macro avg       0.50      0.69      0.44      1028\n",
            "weighted avg       0.71      0.64      0.63      1028\n",
            "\n"
          ],
          "name": "stdout"
        }
      ]
    },
    {
      "cell_type": "markdown",
      "metadata": {
        "id": "khCpe8LQ6gOU",
        "colab_type": "text"
      },
      "source": [
        "**Threshold = 0.8**"
      ]
    },
    {
      "cell_type": "code",
      "metadata": {
        "id": "Mtbp2Ufq6D6Z",
        "colab_type": "code",
        "outputId": "741d2dda-2535-4cf7-caea-ccb61feaa886",
        "colab": {
          "base_uri": "https://localhost:8080/",
          "height": 790
        }
      },
      "source": [
        "print(\"Default Threshold for lgbm : \\n\",classification_report(le.inverse_transform(best_preds_train),y_train))\n",
        "def thresh_3(array):\n",
        "  a = []\n",
        "  for i in range(len(array)):\n",
        "    if max(array[i])>0.8:\n",
        "      a.append(np.argmax(array[i]))\n",
        "    else:\n",
        "      a.append(2)\n",
        "  return a\n",
        "print(\"\\n 0.8 Threshold for lgbm : \\n\",classification_report(le.inverse_transform(thresh_3(preds)),y_train))\n",
        "      \n",
        "###For RandomForest\n",
        "pred_rf = ran.predict_proba(x_test)\n",
        "print(\"Default Threshold for rf : \\n\",(classification_report(ran.predict(x_test),y_test)))\n",
        "print(\"\\n 0.8 threshold for rf : \\n\",classification_report(le.inverse_transform(thresh_3(pred_rf)),y_test) )"
      ],
      "execution_count": 35,
      "outputs": [
        {
          "output_type": "stream",
          "text": [
            "Default Threshold for lgbm : \n",
            "               precision    recall  f1-score   support\n",
            "\n",
            "    negative       0.32      0.73      0.44       172\n",
            "     neutral       0.97      0.74      0.84      2101\n",
            "    positive       0.25      0.80      0.38       123\n",
            "\n",
            "    accuracy                           0.74      2396\n",
            "   macro avg       0.51      0.76      0.55      2396\n",
            "weighted avg       0.88      0.74      0.79      2396\n",
            "\n",
            "\n",
            " 0.8 Threshold for lgbm : \n",
            "               precision    recall  f1-score   support\n",
            "\n",
            "    negative       0.03      0.85      0.05        13\n",
            "     neutral       0.42      0.92      0.58       737\n",
            "    positive       0.92      0.22      0.35      1646\n",
            "\n",
            "    accuracy                           0.44      2396\n",
            "   macro avg       0.46      0.66      0.33      2396\n",
            "weighted avg       0.76      0.44      0.42      2396\n",
            "\n",
            "Default Threshold for rf : \n",
            "               precision    recall  f1-score   support\n",
            "\n",
            "    negative       0.42      0.72      0.53       101\n",
            "     neutral       0.94      0.78      0.85       872\n",
            "    positive       0.22      0.51      0.31        55\n",
            "\n",
            "    accuracy                           0.76      1028\n",
            "   macro avg       0.53      0.67      0.57      1028\n",
            "weighted avg       0.85      0.76      0.79      1028\n",
            "\n",
            "\n",
            " 0.8 threshold for rf : \n",
            "               precision    recall  f1-score   support\n",
            "\n",
            "    negative       0.05      1.00      0.10         9\n",
            "     neutral       0.62      0.90      0.73       499\n",
            "    positive       0.79      0.19      0.31       520\n",
            "\n",
            "    accuracy                           0.54      1028\n",
            "   macro avg       0.49      0.70      0.38      1028\n",
            "weighted avg       0.70      0.54      0.51      1028\n",
            "\n"
          ],
          "name": "stdout"
        }
      ]
    },
    {
      "cell_type": "code",
      "metadata": {
        "id": "i-F9RjlutL3l",
        "colab_type": "code",
        "colab": {}
      },
      "source": [
        ""
      ],
      "execution_count": 0,
      "outputs": []
    }
  ]
}
