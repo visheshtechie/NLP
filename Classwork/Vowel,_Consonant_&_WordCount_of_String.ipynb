{
  "nbformat": 4,
  "nbformat_minor": 0,
  "metadata": {
    "colab": {
      "name": "Vowel, Consonant & WordCount of String",
      "provenance": [],
      "include_colab_link": true
    },
    "kernelspec": {
      "name": "python3",
      "display_name": "Python 3"
    }
  },
  "cells": [
    {
      "cell_type": "markdown",
      "metadata": {
        "id": "view-in-github",
        "colab_type": "text"
      },
      "source": [
        "<a href=\"https://colab.research.google.com/github/visheshtechie/NLP/blob/master/Classwork/Vowel%2C_Consonant_%26_WordCount_of_String.ipynb\" target=\"_parent\"><img src=\"https://colab.research.google.com/assets/colab-badge.svg\" alt=\"Open In Colab\"/></a>"
      ]
    },
    {
      "cell_type": "code",
      "metadata": {
        "id": "ltTdgR2DTBvY",
        "colab_type": "code",
        "colab": {}
      },
      "source": [
        "def info(text):\n",
        "  v_count=0\n",
        "  c_count=0\n",
        "  seps=[\".\",\"!\",\"?\"]\n",
        "  for sep in seps:\n",
        "    text=text.replace(sep,\" \")\n",
        "  c_words=text.split()\n",
        "  w_count=len(c_words)\n",
        "  vowels=['a','e','i','o','u','A','E','I','O','U']\n",
        "  digits=['0','1','2','3','4','5','6','7','8','9']\n",
        "  text=text.replace(\" \",\"\")\n",
        "  for i in range(len(text)):\n",
        "      if text[i] in digits:\n",
        "        pass\n",
        "      elif text[i] in vowels:\n",
        "        v_count+=1\n",
        "      else:\n",
        "        c_count+=1\n",
        "  a={\"vowels\":v_count,\"constants\":c_count,\"words\":w_count}\n",
        "  return a"
      ],
      "execution_count": 0,
      "outputs": []
    },
    {
      "cell_type": "code",
      "metadata": {
        "id": "-6BNBFW-TDzh",
        "colab_type": "code",
        "colab": {
          "base_uri": "https://localhost:8080/",
          "height": 34
        },
        "outputId": "83d0d041-1259-4020-8dad-1068493b7c4a"
      },
      "source": [
        "info(\"Hello. Bit Butter um yum punp!!!!!??\")"
      ],
      "execution_count": 2,
      "outputs": [
        {
          "output_type": "execute_result",
          "data": {
            "text/plain": [
              "{'constants': 15, 'vowels': 8, 'words': 6}"
            ]
          },
          "metadata": {
            "tags": []
          },
          "execution_count": 2
        }
      ]
    },
    {
      "cell_type": "code",
      "metadata": {
        "id": "6sMeTZXRTLbC",
        "colab_type": "code",
        "colab": {}
      },
      "source": [
        ""
      ],
      "execution_count": 0,
      "outputs": []
    }
  ]
}