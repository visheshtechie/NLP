{
  "nbformat": 4,
  "nbformat_minor": 0,
  "metadata": {
    "colab": {
      "name": "Finding [bB] and [gG] Regex",
      "provenance": [],
      "include_colab_link": true
    },
    "kernelspec": {
      "name": "python3",
      "display_name": "Python 3"
    }
  },
  "cells": [
    {
      "cell_type": "markdown",
      "metadata": {
        "id": "view-in-github",
        "colab_type": "text"
      },
      "source": [
        "<a href=\"https://colab.research.google.com/github/visheshtechie/NLP/blob/master/Classwork/Finding_%5BbB%5D_and_%5BgG%5D_Regex.ipynb\" target=\"_parent\"><img src=\"https://colab.research.google.com/assets/colab-badge.svg\" alt=\"Open In Colab\"/></a>"
      ]
    },
    {
      "cell_type": "code",
      "metadata": {
        "id": "I7nHTu01u17r",
        "colab_type": "code",
        "colab": {}
      },
      "source": [
        "import re"
      ],
      "execution_count": 0,
      "outputs": []
    },
    {
      "cell_type": "code",
      "metadata": {
        "id": "uBbLmYo1zpcd",
        "colab_type": "code",
        "colab": {}
      },
      "source": [
        "def bg(text):\n",
        "  seps=[\".\",\"?\",\"!\"]\n",
        "  for sep in seps:\n",
        "    text=text.replace(sep,\" \")\n",
        "  #words=re.split(r'\\s+',text)\n",
        "  hH=re.findall(r'\\b[bB]\\w+',text)\n",
        "  gG=re.findall(r'\\b\\w+[gG]\\b',text)\n",
        "  words=[]\n",
        "  for i in hH:\n",
        "    words.append(i)\n",
        "  for j in gG:\n",
        "    words.append(j)\n",
        "  return words\n"
      ],
      "execution_count": 0,
      "outputs": []
    },
    {
      "cell_type": "code",
      "metadata": {
        "id": "7HK49FA82R0S",
        "colab_type": "code",
        "colab": {
          "base_uri": "https://localhost:8080/",
          "height": 34
        },
        "outputId": "91cfedd2-f52e-41f4-9fde-88336b2f5854"
      },
      "source": [
        "bg(\"Hello bitches frobm hoog hgo pog boo the? other! side!!\")"
      ],
      "execution_count": 84,
      "outputs": [
        {
          "output_type": "execute_result",
          "data": {
            "text/plain": [
              "['bitches', 'boo', 'hoog', 'pog']"
            ]
          },
          "metadata": {
            "tags": []
          },
          "execution_count": 84
        }
      ]
    }
  ]
}