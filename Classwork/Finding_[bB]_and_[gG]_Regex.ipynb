{
  "nbformat": 4,
  "nbformat_minor": 0,
  "metadata": {
    "colab": {
      "name": "Finding [bB] and [gG] - Regex",
      "provenance": [],
      "collapsed_sections": [],
      "include_colab_link": true
    },
    "kernelspec": {
      "name": "python3",
      "display_name": "Python 3"
    }
  },
  "cells": [
    {
      "cell_type": "markdown",
      "metadata": {
        "id": "view-in-github",
        "colab_type": "text"
      },
      "source": [
        "<a href=\"https://colab.research.google.com/github/visheshtechie/NLP/blob/master/Classwork/Finding_%5BbB%5D_and_%5BgG%5D_Regex.ipynb\" target=\"_parent\"><img src=\"https://colab.research.google.com/assets/colab-badge.svg\" alt=\"Open In Colab\"/></a>"
      ]
    },
    {
      "cell_type": "code",
      "metadata": {
        "id": "I7nHTu01u17r",
        "colab_type": "code",
        "colab": {}
      },
      "source": [
        "import re"
      ],
      "execution_count": 0,
      "outputs": []
    },
    {
      "cell_type": "code",
      "metadata": {
        "id": "uBbLmYo1zpcd",
        "colab_type": "code",
        "colab": {}
      },
      "source": [
        "#To find words starting with b or ending with g\n",
        "def bg(text):\n",
        "  hH=re.findall(r'\\b[bB]\\w+',text)\n",
        "  gG=re.findall(r'\\b\\w+[gG]\\b',text)\n",
        "  words=[]\n",
        "  for i in hH:\n",
        "    words.append(i)\n",
        "  for j in gG:\n",
        "    words.append(j)\n",
        "  return words"
      ],
      "execution_count": 0,
      "outputs": []
    },
    {
      "cell_type": "code",
      "metadata": {
        "id": "7HK49FA82R0S",
        "colab_type": "code",
        "outputId": "ec5809f7-cccc-42ce-86cf-b1f6545ec722",
        "colab": {
          "base_uri": "https://localhost:8080/",
          "height": 34
        }
      },
      "source": [
        "bg(\"Hello bit frobm hoog hgo pog boo the? other! side!!\")"
      ],
      "execution_count": 0,
      "outputs": [
        {
          "output_type": "execute_result",
          "data": {
            "text/plain": [
              "['bit', 'boo', 'hoog', 'pog']"
            ]
          },
          "metadata": {
            "tags": []
          },
          "execution_count": 3
        }
      ]
    }
  ]
}